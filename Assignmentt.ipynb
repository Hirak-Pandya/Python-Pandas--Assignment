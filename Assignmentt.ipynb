{
  "nbformat": 4,
  "nbformat_minor": 0,
  "metadata": {
    "colab": {
      "name": "Assignmentt.ipynb",
      "provenance": [],
      "authorship_tag": "ABX9TyMycpdEAtCyNZL2LXuRK4Af",
      "include_colab_link": true
    },
    "kernelspec": {
      "name": "python3",
      "display_name": "Python 3"
    },
    "language_info": {
      "name": "python"
    }
  },
  "cells": [
    {
      "cell_type": "markdown",
      "metadata": {
        "id": "view-in-github",
        "colab_type": "text"
      },
      "source": [
        "<a href=\"https://colab.research.google.com/github/Hirak-Pandya/Python-Pandas--Assignment/blob/main/Assignmentt.ipynb\" target=\"_parent\"><img src=\"https://colab.research.google.com/assets/colab-badge.svg\" alt=\"Open In Colab\"/></a>"
      ]
    },
    {
      "cell_type": "code",
      "metadata": {
        "colab": {
          "base_uri": "https://localhost:8080/",
          "height": 520
        },
        "id": "eILkLD5wR2us",
        "outputId": "7ae34ab4-8b98-4a5a-ffa8-8812c3190fca"
      },
      "source": [
        "import pandas as pd\n",
        "\n",
        "df = pd.read_excel ('/content/area.xlsx')\n",
        "df.head(15)\n"
      ],
      "execution_count": 160,
      "outputs": [
        {
          "output_type": "execute_result",
          "data": {
            "text/html": [
              "<div>\n",
              "<style scoped>\n",
              "    .dataframe tbody tr th:only-of-type {\n",
              "        vertical-align: middle;\n",
              "    }\n",
              "\n",
              "    .dataframe tbody tr th {\n",
              "        vertical-align: top;\n",
              "    }\n",
              "\n",
              "    .dataframe thead th {\n",
              "        text-align: right;\n",
              "    }\n",
              "</style>\n",
              "<table border=\"1\" class=\"dataframe\">\n",
              "  <thead>\n",
              "    <tr style=\"text-align: right;\">\n",
              "      <th></th>\n",
              "      <th>projectName</th>\n",
              "      <th>Area(sq.ft)</th>\n",
              "    </tr>\n",
              "  </thead>\n",
              "  <tbody>\n",
              "    <tr>\n",
              "      <th>0</th>\n",
              "      <td>Godrej Summit</td>\n",
              "      <td>Master Bedroom, 181, Bedroom, 153.08, Bedroom,...</td>\n",
              "    </tr>\n",
              "    <tr>\n",
              "      <th>1</th>\n",
              "      <td>Godrej Summit</td>\n",
              "      <td>Master Bedroom, 144.83, Bedroom, 126.88, Bedro...</td>\n",
              "    </tr>\n",
              "    <tr>\n",
              "      <th>2</th>\n",
              "      <td>Hero Homes Gurgaon</td>\n",
              "      <td>Bedroom, 151.48, Bedroom, 128.08</td>\n",
              "    </tr>\n",
              "    <tr>\n",
              "      <th>3</th>\n",
              "      <td>Godrej Summit</td>\n",
              "      <td>Master Bedroom, 167, Bedroom, 146.12, Bedroom,...</td>\n",
              "    </tr>\n",
              "    <tr>\n",
              "      <th>4</th>\n",
              "      <td>Hero Homes Gurgaon</td>\n",
              "      <td>Bedroom, 164.76, Bedroom, 128.55, Bedroom, 99.17</td>\n",
              "    </tr>\n",
              "    <tr>\n",
              "      <th>5</th>\n",
              "      <td>Godrej Air Sector 85</td>\n",
              "      <td>Master Bedroom, 175.97, Bedroom, 146.1</td>\n",
              "    </tr>\n",
              "    <tr>\n",
              "      <th>6</th>\n",
              "      <td>Hero Homes Gurgaon</td>\n",
              "      <td>Bedroom, 152.63, Bedroom, 129.52, Bedroom, 129.07</td>\n",
              "    </tr>\n",
              "    <tr>\n",
              "      <th>7</th>\n",
              "      <td>Godrej 101</td>\n",
              "      <td>Master Bedroom, 161.2, Bedroom, 130, Study Roo...</td>\n",
              "    </tr>\n",
              "    <tr>\n",
              "      <th>8</th>\n",
              "      <td>Shapoorji Pallonji Joyville Gurgaon</td>\n",
              "      <td>Master Bedroom, 135.67, Bedroom, 124.13</td>\n",
              "    </tr>\n",
              "    <tr>\n",
              "      <th>9</th>\n",
              "      <td>Godrej Meridien</td>\n",
              "      <td>Master Bedroom, 154, Bedroom, 132</td>\n",
              "    </tr>\n",
              "    <tr>\n",
              "      <th>10</th>\n",
              "      <td>DLF The Ultima</td>\n",
              "      <td>Master Bedroom, 168, Bedroom, 121.67, Bedroom,...</td>\n",
              "    </tr>\n",
              "    <tr>\n",
              "      <th>11</th>\n",
              "      <td>Godrej Habitat</td>\n",
              "      <td>Master Bedroom, 168, Bedroom, 140</td>\n",
              "    </tr>\n",
              "    <tr>\n",
              "      <th>12</th>\n",
              "      <td>Central park I</td>\n",
              "      <td>Bedroom, 124.78, Bedroom, 192.51</td>\n",
              "    </tr>\n",
              "    <tr>\n",
              "      <th>13</th>\n",
              "      <td>Tata Raheja Arabella</td>\n",
              "      <td>Master Bedroom, 316.44, Bedroom, 316.44, Bedro...</td>\n",
              "    </tr>\n",
              "    <tr>\n",
              "      <th>14</th>\n",
              "      <td>Tata Raheja Arabella</td>\n",
              "      <td>Master Bedroom, 282.64, Bedroom, 282.64, Bedro...</td>\n",
              "    </tr>\n",
              "  </tbody>\n",
              "</table>\n",
              "</div>"
            ],
            "text/plain": [
              "                            projectName                                        Area(sq.ft)\n",
              "0                         Godrej Summit  Master Bedroom, 181, Bedroom, 153.08, Bedroom,...\n",
              "1                         Godrej Summit  Master Bedroom, 144.83, Bedroom, 126.88, Bedro...\n",
              "2                    Hero Homes Gurgaon                   Bedroom, 151.48, Bedroom, 128.08\n",
              "3                         Godrej Summit  Master Bedroom, 167, Bedroom, 146.12, Bedroom,...\n",
              "4                    Hero Homes Gurgaon   Bedroom, 164.76, Bedroom, 128.55, Bedroom, 99.17\n",
              "5                  Godrej Air Sector 85             Master Bedroom, 175.97, Bedroom, 146.1\n",
              "6                    Hero Homes Gurgaon  Bedroom, 152.63, Bedroom, 129.52, Bedroom, 129.07\n",
              "7                            Godrej 101  Master Bedroom, 161.2, Bedroom, 130, Study Roo...\n",
              "8   Shapoorji Pallonji Joyville Gurgaon            Master Bedroom, 135.67, Bedroom, 124.13\n",
              "9                       Godrej Meridien                  Master Bedroom, 154, Bedroom, 132\n",
              "10                       DLF The Ultima  Master Bedroom, 168, Bedroom, 121.67, Bedroom,...\n",
              "11                       Godrej Habitat                  Master Bedroom, 168, Bedroom, 140\n",
              "12                       Central park I                   Bedroom, 124.78, Bedroom, 192.51\n",
              "13                 Tata Raheja Arabella  Master Bedroom, 316.44, Bedroom, 316.44, Bedro...\n",
              "14                 Tata Raheja Arabella  Master Bedroom, 282.64, Bedroom, 282.64, Bedro..."
            ]
          },
          "metadata": {},
          "execution_count": 160
        }
      ]
    },
    {
      "cell_type": "code",
      "metadata": {
        "id": "RUuchPZZSvmc"
      },
      "source": [
        "dfd=df['Area(sq.ft)']"
      ],
      "execution_count": 161,
      "outputs": []
    },
    {
      "cell_type": "code",
      "metadata": {
        "colab": {
          "base_uri": "https://localhost:8080/"
        },
        "id": "wzv0DCBhgbk5",
        "outputId": "21f300b7-63ff-4e66-942b-c999b7f068e8"
      },
      "source": [
        "dfd.tail(15)"
      ],
      "execution_count": 162,
      "outputs": [
        {
          "output_type": "execute_result",
          "data": {
            "text/plain": [
              "85    Master Bedroom, 170.5, Bedroom, 137.81, Master...\n",
              "86    Master Bedroom, 195, Bedroom, 153.75, Bedroom,...\n",
              "87    Master Bedroom, 201.5, Bedroom, 137.81, Bedroo...\n",
              "88    Master Bedroom, 171, Master Bedroom, 143.75, M...\n",
              "89    Master Bedroom, 183, Bedroom, 163.88, Bedroom,...\n",
              "90    Master Bedroom, 168, Bedroom, 184.38, Bedroom,...\n",
              "91    Bedroom, 120, Bedroom, 120, Bedroom, 120, Mast...\n",
              "92    Master Bedroom, 326.83, Bedroom, 198.92, Bedro...\n",
              "93    Master Bedroom, 216.56, Bedroom, 177, Bedroom,...\n",
              "94    Bedroom, 154, Master Bedroom, 400.22, Bedroom,...\n",
              "95    Master Bedroom, 194.33, Bedroom, 119.25, Bedro...\n",
              "96    Master Bedroom, 320, Bedroom, 214.5, Bedroom, ...\n",
              "97    Bedroom, 120, Bedroom, 120, Bedroom, 120, Mast...\n",
              "98    Master Bedroom, 214.21, Bedroom, 179.56, Bedro...\n",
              "99    Master Bedroom, 340, Bedroom, 180, Bedroom, 18...\n",
              "Name: Area(sq.ft), dtype: object"
            ]
          },
          "metadata": {},
          "execution_count": 162
        }
      ]
    },
    {
      "cell_type": "code",
      "metadata": {
        "id": "_hWd24uzh-YO"
      },
      "source": [
        "dfd=dfd.str.split(',')\n"
      ],
      "execution_count": 163,
      "outputs": []
    },
    {
      "cell_type": "code",
      "metadata": {
        "colab": {
          "base_uri": "https://localhost:8080/"
        },
        "id": "-LA5UFoDfKR_",
        "outputId": "5a5f5642-9a15-4371-93c3-6d353b83b0a0"
      },
      "source": [
        "dfd.head()"
      ],
      "execution_count": 164,
      "outputs": [
        {
          "output_type": "execute_result",
          "data": {
            "text/plain": [
              "0    [Master Bedroom,  181,  Bedroom,  153.08,  Bed...\n",
              "1    [Master Bedroom,  144.83,  Bedroom,  126.88,  ...\n",
              "2                [Bedroom,  151.48,  Bedroom,  128.08]\n",
              "3    [Master Bedroom,  167,  Bedroom,  146.12,  Bed...\n",
              "4    [Bedroom,  164.76,  Bedroom,  128.55,  Bedroom...\n",
              "Name: Area(sq.ft), dtype: object"
            ]
          },
          "metadata": {},
          "execution_count": 164
        }
      ]
    },
    {
      "cell_type": "code",
      "metadata": {
        "colab": {
          "base_uri": "https://localhost:8080/"
        },
        "id": "bzHKQK7VfkFz",
        "outputId": "2d2965e3-a4f1-466e-d876-83207adc1afa"
      },
      "source": [
        "dfd[0]"
      ],
      "execution_count": 165,
      "outputs": [
        {
          "output_type": "execute_result",
          "data": {
            "text/plain": [
              "['Master Bedroom',\n",
              " ' 181',\n",
              " ' Bedroom',\n",
              " ' 153.08',\n",
              " ' Bedroom',\n",
              " ' 143',\n",
              " ' Bedroom',\n",
              " ' 132',\n",
              " ' Study Room',\n",
              " ' 72.75']"
            ]
          },
          "metadata": {},
          "execution_count": 165
        }
      ]
    },
    {
      "cell_type": "code",
      "metadata": {
        "id": "Oy-5raiPnPfN"
      },
      "source": [
        "Master_Bedroom=[]\n",
        "Bedroom1=[]\n",
        "Bedroom2=[]\n",
        "Bedroom3=[]\n",
        "studyroom=[]"
      ],
      "execution_count": 166,
      "outputs": []
    },
    {
      "cell_type": "code",
      "metadata": {
        "id": "0WutLWlupL2t"
      },
      "source": [
        ""
      ],
      "execution_count": 166,
      "outputs": []
    },
    {
      "cell_type": "code",
      "metadata": {
        "id": "iAE0XXJ2jqh-"
      },
      "source": [
        "for i in range(0,100):\n",
        "  #if \"Master Bedroom\" in dfd[i]:\n",
        "  if dfd[i][0]==\"Master Bedroom\":\n",
        "    Master_Bedroom.append(dfd[i][1])\n",
        "    \n",
        "  else:\n",
        "    Master_Bedroom.append(\"NA\")\n",
        "\n",
        "  if \" Study Room\" in dfd[i]:\n",
        "    studyroom.append(dfd[i][-1])\n",
        "  else:\n",
        "    studyroom.append(\"NA\")\n",
        "\n",
        "  \n",
        "\n",
        "\n",
        "  if (\"Bedroom\" in dfd[i]) and (dfd[i].index(\"Bedroom\") <len(dfd[i])):\n",
        "    first=dfd[i].index(\"Bedroom\")\n",
        "    \n",
        "    Bedroom1.append(dfd[i][dfd[i].index(\"Bedroom\")+1])\n",
        "  elif(\" Bedroom\" in dfd[i]) and (dfd[i].index(\" Bedroom\") <len(dfd[i])):\n",
        "    first=dfd[i].index(\" Bedroom\")\n",
        "    Bedroom1.append(dfd[i][dfd[i].index(\" Bedroom\")+1])\n",
        "  else:\n",
        "    Bedroom1.append(\"NA\")\n",
        "\n",
        "  if(first+2 < len(dfd[i])) and (dfd[i][first+2]==\" Bedroom\"):\n",
        "    first=first+2\n",
        "    Bedroom2.append(dfd[i][first+1])\n",
        "  else:\n",
        "    Bedroom2.append(\"NA\")\n",
        "\n",
        "  if(first+2 < len(dfd[i])) and (dfd[i][first+2]==\" Bedroom\"):\n",
        "    first=first+2\n",
        "    Bedroom3.append(dfd[i][first+1])\n",
        "  else:\n",
        "    Bedroom3.append(\"NA\")\n",
        "\n",
        "\n",
        "\n",
        "\n"
      ],
      "execution_count": 167,
      "outputs": []
    },
    {
      "cell_type": "code",
      "metadata": {
        "id": "-HiTk_1Zpjn2",
        "colab": {
          "base_uri": "https://localhost:8080/"
        },
        "outputId": "b91032a5-d24b-4dc4-ed70-d32f8ac04768"
      },
      "source": [
        "print(len(Master_Bedroom))"
      ],
      "execution_count": 168,
      "outputs": [
        {
          "output_type": "stream",
          "name": "stdout",
          "text": [
            "100\n"
          ]
        }
      ]
    },
    {
      "cell_type": "code",
      "metadata": {
        "id": "6vf4bthiqLgy",
        "colab": {
          "base_uri": "https://localhost:8080/"
        },
        "outputId": "f764ea9a-b8b3-4f02-f1d7-fb71089b132a"
      },
      "source": [
        "print(Master_Bedroom)"
      ],
      "execution_count": 169,
      "outputs": [
        {
          "output_type": "stream",
          "name": "stdout",
          "text": [
            "[' 181', ' 144.83', 'NA', ' 167', 'NA', ' 175.97', 'NA', ' 161.2', ' 135.67', ' 154', ' 168', ' 168', 'NA', ' 316.44', ' 282.64', ' 132', ' 169.17', ' 334.55', ' 131.08', 'NA', 'NA', 'NA', ' 167', 'NA', 'NA', ' 210', 'NA', 'NA', ' 144.83', ' 144.83', 'NA', ' 167', ' 331.77', ' 331.77', ' 331.77', ' 307.21', 'NA', ' 420.39', ' 153.08', 'NA', ' 307.21', 'NA', 'NA', 'NA', ' 235.05', 'NA', ' 270.31', ' 219.15', ' 240', ' 258.23', ' 143', ' 132.92', 'NA', 'NA', 'NA', 'NA', 'NA', ' 224.07', ' 231.74', ' 190', ' 168', ' 202', 'NA', ' 180', 'NA', ' 179.67', ' 172.12', 'NA', 'NA', ' 177.33', ' 158.62', ' 165.81', ' 168.97', 'NA', 'NA', 'NA', 'NA', 'NA', ' 171.19', ' 158.17', ' 163.47', ' 163.47', ' 201.5', ' 158.17', 'NA', ' 170.5', ' 195', ' 201.5', ' 171', ' 183', ' 168', 'NA', ' 326.83', ' 216.56', 'NA', ' 194.33', ' 320', 'NA', ' 214.21', ' 340']\n"
          ]
        }
      ]
    },
    {
      "cell_type": "code",
      "metadata": {
        "id": "T7x-x-3SoKv2",
        "colab": {
          "base_uri": "https://localhost:8080/",
          "height": 815
        },
        "outputId": "0b1597ac-13b2-4134-c17b-a7f140315e92"
      },
      "source": [
        "df[\"Master Bedroom\"]=Master_Bedroom\n",
        "df[\"Bedroom1\"]= Bedroom1\n",
        "df[\"Bedroom2\"]= Bedroom2\n",
        "df[\"Bedroom3\"]= Bedroom3\n",
        "df[\"StudyRoom\"]= studyroom\n",
        "df.head(20)"
      ],
      "execution_count": 170,
      "outputs": [
        {
          "output_type": "execute_result",
          "data": {
            "text/html": [
              "<div>\n",
              "<style scoped>\n",
              "    .dataframe tbody tr th:only-of-type {\n",
              "        vertical-align: middle;\n",
              "    }\n",
              "\n",
              "    .dataframe tbody tr th {\n",
              "        vertical-align: top;\n",
              "    }\n",
              "\n",
              "    .dataframe thead th {\n",
              "        text-align: right;\n",
              "    }\n",
              "</style>\n",
              "<table border=\"1\" class=\"dataframe\">\n",
              "  <thead>\n",
              "    <tr style=\"text-align: right;\">\n",
              "      <th></th>\n",
              "      <th>projectName</th>\n",
              "      <th>Area(sq.ft)</th>\n",
              "      <th>Master Bedroom</th>\n",
              "      <th>Bedroom1</th>\n",
              "      <th>Bedroom2</th>\n",
              "      <th>Bedroom3</th>\n",
              "      <th>StudyRoom</th>\n",
              "    </tr>\n",
              "  </thead>\n",
              "  <tbody>\n",
              "    <tr>\n",
              "      <th>0</th>\n",
              "      <td>Godrej Summit</td>\n",
              "      <td>Master Bedroom, 181, Bedroom, 153.08, Bedroom,...</td>\n",
              "      <td>181</td>\n",
              "      <td>153.08</td>\n",
              "      <td>143</td>\n",
              "      <td>132</td>\n",
              "      <td>72.75</td>\n",
              "    </tr>\n",
              "    <tr>\n",
              "      <th>1</th>\n",
              "      <td>Godrej Summit</td>\n",
              "      <td>Master Bedroom, 144.83, Bedroom, 126.88, Bedro...</td>\n",
              "      <td>144.83</td>\n",
              "      <td>126.88</td>\n",
              "      <td>142.62</td>\n",
              "      <td>NA</td>\n",
              "      <td>NA</td>\n",
              "    </tr>\n",
              "    <tr>\n",
              "      <th>2</th>\n",
              "      <td>Hero Homes Gurgaon</td>\n",
              "      <td>Bedroom, 151.48, Bedroom, 128.08</td>\n",
              "      <td>NA</td>\n",
              "      <td>151.48</td>\n",
              "      <td>128.08</td>\n",
              "      <td>NA</td>\n",
              "      <td>NA</td>\n",
              "    </tr>\n",
              "    <tr>\n",
              "      <th>3</th>\n",
              "      <td>Godrej Summit</td>\n",
              "      <td>Master Bedroom, 167, Bedroom, 146.12, Bedroom,...</td>\n",
              "      <td>167</td>\n",
              "      <td>146.12</td>\n",
              "      <td>128.62</td>\n",
              "      <td>118.12</td>\n",
              "      <td>NA</td>\n",
              "    </tr>\n",
              "    <tr>\n",
              "      <th>4</th>\n",
              "      <td>Hero Homes Gurgaon</td>\n",
              "      <td>Bedroom, 164.76, Bedroom, 128.55, Bedroom, 99.17</td>\n",
              "      <td>NA</td>\n",
              "      <td>164.76</td>\n",
              "      <td>128.55</td>\n",
              "      <td>99.17</td>\n",
              "      <td>NA</td>\n",
              "    </tr>\n",
              "    <tr>\n",
              "      <th>5</th>\n",
              "      <td>Godrej Air Sector 85</td>\n",
              "      <td>Master Bedroom, 175.97, Bedroom, 146.1</td>\n",
              "      <td>175.97</td>\n",
              "      <td>146.1</td>\n",
              "      <td>NA</td>\n",
              "      <td>NA</td>\n",
              "      <td>NA</td>\n",
              "    </tr>\n",
              "    <tr>\n",
              "      <th>6</th>\n",
              "      <td>Hero Homes Gurgaon</td>\n",
              "      <td>Bedroom, 152.63, Bedroom, 129.52, Bedroom, 129.07</td>\n",
              "      <td>NA</td>\n",
              "      <td>152.63</td>\n",
              "      <td>129.52</td>\n",
              "      <td>129.07</td>\n",
              "      <td>NA</td>\n",
              "    </tr>\n",
              "    <tr>\n",
              "      <th>7</th>\n",
              "      <td>Godrej 101</td>\n",
              "      <td>Master Bedroom, 161.2, Bedroom, 130, Study Roo...</td>\n",
              "      <td>161.2</td>\n",
              "      <td>130</td>\n",
              "      <td>NA</td>\n",
              "      <td>NA</td>\n",
              "      <td>79.44</td>\n",
              "    </tr>\n",
              "    <tr>\n",
              "      <th>8</th>\n",
              "      <td>Shapoorji Pallonji Joyville Gurgaon</td>\n",
              "      <td>Master Bedroom, 135.67, Bedroom, 124.13</td>\n",
              "      <td>135.67</td>\n",
              "      <td>124.13</td>\n",
              "      <td>NA</td>\n",
              "      <td>NA</td>\n",
              "      <td>NA</td>\n",
              "    </tr>\n",
              "    <tr>\n",
              "      <th>9</th>\n",
              "      <td>Godrej Meridien</td>\n",
              "      <td>Master Bedroom, 154, Bedroom, 132</td>\n",
              "      <td>154</td>\n",
              "      <td>132</td>\n",
              "      <td>NA</td>\n",
              "      <td>NA</td>\n",
              "      <td>NA</td>\n",
              "    </tr>\n",
              "    <tr>\n",
              "      <th>10</th>\n",
              "      <td>DLF The Ultima</td>\n",
              "      <td>Master Bedroom, 168, Bedroom, 121.67, Bedroom,...</td>\n",
              "      <td>168</td>\n",
              "      <td>121.67</td>\n",
              "      <td>140</td>\n",
              "      <td>NA</td>\n",
              "      <td>NA</td>\n",
              "    </tr>\n",
              "    <tr>\n",
              "      <th>11</th>\n",
              "      <td>Godrej Habitat</td>\n",
              "      <td>Master Bedroom, 168, Bedroom, 140</td>\n",
              "      <td>168</td>\n",
              "      <td>140</td>\n",
              "      <td>NA</td>\n",
              "      <td>NA</td>\n",
              "      <td>NA</td>\n",
              "    </tr>\n",
              "    <tr>\n",
              "      <th>12</th>\n",
              "      <td>Central park I</td>\n",
              "      <td>Bedroom, 124.78, Bedroom, 192.51</td>\n",
              "      <td>NA</td>\n",
              "      <td>124.78</td>\n",
              "      <td>192.51</td>\n",
              "      <td>NA</td>\n",
              "      <td>NA</td>\n",
              "    </tr>\n",
              "    <tr>\n",
              "      <th>13</th>\n",
              "      <td>Tata Raheja Arabella</td>\n",
              "      <td>Master Bedroom, 316.44, Bedroom, 316.44, Bedro...</td>\n",
              "      <td>316.44</td>\n",
              "      <td>316.44</td>\n",
              "      <td>207.38</td>\n",
              "      <td>207.38</td>\n",
              "      <td>NA</td>\n",
              "    </tr>\n",
              "    <tr>\n",
              "      <th>14</th>\n",
              "      <td>Tata Raheja Arabella</td>\n",
              "      <td>Master Bedroom, 282.64, Bedroom, 282.64, Bedro...</td>\n",
              "      <td>282.64</td>\n",
              "      <td>282.64</td>\n",
              "      <td>207.38</td>\n",
              "      <td>192.33</td>\n",
              "      <td>NA</td>\n",
              "    </tr>\n",
              "    <tr>\n",
              "      <th>15</th>\n",
              "      <td>M3M Marina</td>\n",
              "      <td>Master Bedroom, 132, Bedroom, 120</td>\n",
              "      <td>132</td>\n",
              "      <td>120</td>\n",
              "      <td>NA</td>\n",
              "      <td>NA</td>\n",
              "      <td>NA</td>\n",
              "    </tr>\n",
              "    <tr>\n",
              "      <th>16</th>\n",
              "      <td>One Indiabulls</td>\n",
              "      <td>Master Bedroom, 169.17, Bedroom, 120.75, Bedro...</td>\n",
              "      <td>169.17</td>\n",
              "      <td>120.75</td>\n",
              "      <td>144.08</td>\n",
              "      <td>NA</td>\n",
              "      <td>NA</td>\n",
              "    </tr>\n",
              "    <tr>\n",
              "      <th>17</th>\n",
              "      <td>Tata Raheja Arabella</td>\n",
              "      <td>Master Bedroom, 334.55, Bedroom, 225.73, Bedro...</td>\n",
              "      <td>334.55</td>\n",
              "      <td>225.73</td>\n",
              "      <td>153.06</td>\n",
              "      <td>190.16</td>\n",
              "      <td>NA</td>\n",
              "    </tr>\n",
              "    <tr>\n",
              "      <th>18</th>\n",
              "      <td>Central Park 3 Flower Valley</td>\n",
              "      <td>Master Bedroom, 131.08, Bedroom, 106.75, Study...</td>\n",
              "      <td>131.08</td>\n",
              "      <td>106.75</td>\n",
              "      <td>NA</td>\n",
              "      <td>NA</td>\n",
              "      <td>64.75</td>\n",
              "    </tr>\n",
              "    <tr>\n",
              "      <th>19</th>\n",
              "      <td>Central Park 3 Flower Valley</td>\n",
              "      <td>Bedroom, 150.5, Bedroom, 165.67, Bedroom, 151....</td>\n",
              "      <td>NA</td>\n",
              "      <td>150.5</td>\n",
              "      <td>165.67</td>\n",
              "      <td>151.25</td>\n",
              "      <td>NA</td>\n",
              "    </tr>\n",
              "  </tbody>\n",
              "</table>\n",
              "</div>"
            ],
            "text/plain": [
              "                            projectName  ... StudyRoom\n",
              "0                         Godrej Summit  ...     72.75\n",
              "1                         Godrej Summit  ...        NA\n",
              "2                    Hero Homes Gurgaon  ...        NA\n",
              "3                         Godrej Summit  ...        NA\n",
              "4                    Hero Homes Gurgaon  ...        NA\n",
              "5                  Godrej Air Sector 85  ...        NA\n",
              "6                    Hero Homes Gurgaon  ...        NA\n",
              "7                            Godrej 101  ...     79.44\n",
              "8   Shapoorji Pallonji Joyville Gurgaon  ...        NA\n",
              "9                       Godrej Meridien  ...        NA\n",
              "10                       DLF The Ultima  ...        NA\n",
              "11                       Godrej Habitat  ...        NA\n",
              "12                       Central park I  ...        NA\n",
              "13                 Tata Raheja Arabella  ...        NA\n",
              "14                 Tata Raheja Arabella  ...        NA\n",
              "15                           M3M Marina  ...        NA\n",
              "16                       One Indiabulls  ...        NA\n",
              "17                 Tata Raheja Arabella  ...        NA\n",
              "18         Central Park 3 Flower Valley  ...     64.75\n",
              "19         Central Park 3 Flower Valley  ...        NA\n",
              "\n",
              "[20 rows x 7 columns]"
            ]
          },
          "metadata": {},
          "execution_count": 170
        }
      ]
    },
    {
      "cell_type": "code",
      "metadata": {
        "id": "DSQkN7opZNUZ"
      },
      "source": [
        "df.to_excel(\"Final_area.xlsx\")"
      ],
      "execution_count": 171,
      "outputs": []
    }
  ]
}